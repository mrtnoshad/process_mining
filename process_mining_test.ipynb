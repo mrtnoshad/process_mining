{
 "cells": [
  {
   "cell_type": "code",
   "execution_count": 1,
   "metadata": {},
   "outputs": [
    {
     "name": "stderr",
     "output_type": "stream",
     "text": [
      "/Library/Frameworks/Python.framework/Versions/3.6/lib/python3.6/site-packages/google/auth/_default.py:69: UserWarning: Your application has authenticated using end user credentials from Google Cloud SDK. We recommend that most server applications use service accounts instead. If your application continues to use end user credentials from Cloud SDK, you might receive a \"quota exceeded\" or \"API not enabled\" error. For more information about service accounts, see https://cloud.google.com/docs/authentication/\n",
      "  warnings.warn(_CLOUD_SDK_CREDENTIALS_WARNING)\n"
     ]
    },
    {
     "name": "stdout",
     "output_type": "stream",
     "text": [
      "     jc_uid        enc_id        event_type                event_name  \\\n",
      "0  JCcb69cc  131029086038  Order Medication  ALTEPLASE 100 MG IV SOLR   \n",
      "1  JCcb69cc  131029086038  Order Medication  ALTEPLASE 100 MG IV SOLR   \n",
      "2  JCcb69cc  131029086038  Order Medication  ALTEPLASE 100 MG IV SOLR   \n",
      "3  JCcb69cc  131029086038  Order Medication  ALTEPLASE 100 MG IV SOLR   \n",
      "4  JCcb69cc  131029086038  Order Medication  ALTEPLASE 100 MG IV SOLR   \n",
      "\n",
      "  event_time  emergencyAdmitTime        tpaAdminTime  time_diff  user_type  \\\n",
      "0 2014-01-04 2014-01-04 01:12:00 2014-01-04 02:25:00        -72  PHYSICIAN   \n",
      "1 2014-01-04 2014-01-04 01:12:00 2014-01-04 02:25:00        -72  PHYSICIAN   \n",
      "2 2014-01-04 2014-01-04 01:12:00 2014-01-04 02:25:00        -72  PHYSICIAN   \n",
      "3 2014-01-04 2014-01-04 01:12:00 2014-01-04 02:25:00        -72  PHYSICIAN   \n",
      "4 2014-01-04 2014-01-04 01:12:00 2014-01-04 02:25:00        -72  PHYSICIAN   \n",
      "\n",
      "  event_category  \n",
      "0            tPA  \n",
      "1            tPA  \n",
      "2            tPA  \n",
      "3            tPA  \n",
      "4            tPA  \n",
      "Unique Event Types:  ['Order Medication' 'ADT' 'Access log' 'Order Procedure' 'Lab Collection'\n",
      " 'Lab Result' 'Procedure Start' 'Radiology Proc Started'\n",
      " 'Medication Given' 'Radiology Report']\n",
      "data reading complete!\n"
     ]
    }
   ],
   "source": [
    "from plot_process import plot_process\n",
    "from plot_process import read_data_from_cloud\n",
    "\n",
    "from google.cloud import bigquery\n",
    "from google.cloud.bigquery import dbapi;\n",
    "import numpy as np\n",
    "import pandas as pd\n",
    "\n",
    "\n",
    "\n",
    "\n",
    "data = read_data_from_cloud()\n",
    "print('data reading complete!')\n",
    "\n"
   ]
  },
  {
   "cell_type": "code",
   "execution_count": 3,
   "metadata": {},
   "outputs": [
    {
     "name": "stdout",
     "output_type": "stream",
     "text": [
      "Index(['jc_uid', 'enc_id', 'event_type', 'event_name', 'event_time',\n",
      "       'emergencyAdmitTime', 'tpaAdminTime', 'time_diff', 'user_type',\n",
      "       'event_category', 'node_name'],\n",
      "      dtype='object')\n"
     ]
    }
   ],
   "source": [
    "print(data.columns)"
   ]
  },
  {
   "cell_type": "markdown",
   "metadata": {},
   "source": [
    "### Run the process mining algortihm"
   ]
  },
  {
   "cell_type": "code",
   "execution_count": 2,
   "metadata": {},
   "outputs": [
    {
     "name": "stdout",
     "output_type": "stream",
     "text": [
      "Creating\tthe column \"node_name\"...\n",
      "Now we only need the following columns: 'enc_id', 'node_name', 'time_diff' \n",
      "Choosing top k nodes\n",
      "Creating table of unique encounter id\n",
      "Extracting consecuative event pairs\n",
      "Save the weighted edges\n",
      "Filter edges and save to a list of edges with different weight types\n",
      "Find the median path\n",
      "Find Adjacency matrix\n",
      "Plot the time_ordred map\n"
     ]
    },
    {
     "data": {
      "text/plain": [
       "<AGraph <Swig Object of type 'Agraph_t *' at 0x13d0cc9f0>>"
      ]
     },
     "metadata": {},
     "output_type": "display_data"
    },
    {
     "name": "stdout",
     "output_type": "stream",
     "text": [
      "Process Mining File Saved!\n"
     ]
    }
   ],
   "source": [
    "# Set the parameters\n",
    "\n",
    "event_types = ['Order Medication', 'ADT', 'Order Procedure',#'Access log', # 'Lab Collection', #'Access log',\n",
    "'Lab Result',  'Radiology Proc Started', #'Procedure Start',\n",
    "'Medication Given', 'Radiology Report']\n",
    "\n",
    "\n",
    "\n",
    "\n",
    "node_names = ['event_type', 'event_category']\n",
    "\n",
    "abbreviation_dict = {'Order Procedure': 'OP', 'Lab Result':'LR', '2001002':'ER', 'ADT-':'', 'Started': 'Done'}\n",
    "\n",
    "\n",
    "\n",
    "plot_process(data=data, event_types=event_types, node_names=node_names, abbreviation_dict=abbreviation_dict ,num_nodes = 15, edge_weight_lower_bound = 5, plot_most_common_path = True, output_file_name='output')\n",
    "\n",
    "\n",
    "# data: the input data with the following columns:\n",
    "# 'jc_uid', 'enc_id', 'event_type', 'event_name', 'event_time',\n",
    "#       'emergencyAdmitTime', 'tpaAdminTime', 'time_diff', 'user_type',\n",
    "#       'event_category', 'node_name'\n",
    "\n",
    "\n",
    "# Event_type: the type of the event (Order medication, order procedure, etc)\n",
    "# node_names: What would be the node names. If it's a list, then the node name is concatenation of the names\n",
    "# abbreviation_dict: A dictionary of the abbreviations in the node names\n",
    "# num_nodes : number of nodes\n",
    "# edge_weight_lower_bound: if the weight of the edge is less than the bound it won't be present in the graph\n",
    "# plot_most_common_path: show the most common path in the graph \n",
    "# output_file_name\n"
   ]
  },
  {
   "cell_type": "code",
   "execution_count": null,
   "metadata": {},
   "outputs": [],
   "source": []
  }
 ],
 "metadata": {
  "kernelspec": {
   "display_name": "Python 3",
   "language": "python",
   "name": "python3"
  },
  "language_info": {
   "codemirror_mode": {
    "name": "ipython",
    "version": 3
   },
   "file_extension": ".py",
   "mimetype": "text/x-python",
   "name": "python",
   "nbconvert_exporter": "python",
   "pygments_lexer": "ipython3",
   "version": "3.6.6"
  }
 },
 "nbformat": 4,
 "nbformat_minor": 2
}
